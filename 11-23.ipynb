{
 "cells": [
  {
   "cell_type": "markdown",
   "id": "5a042781",
   "metadata": {},
   "source": [
    "Histogram - A histogram gives you the distribution of a column in a dataset. It is used for numerical data rather than categorical.The histogram takes all the values and splits them into intervals. \n",
    "in the column and plots the frequency of each data point. This graph will give you the distribution of the data whether it is normalized or skewed left or right. You can also view outliers in the dataset. The shape is the main takeaway from this visualization as it tells you how the data is distributed.\n",
    "\n",
    "bar- The bar chart is used for categorical data rather than numerical and displays how frequently that cateogorical information appears in the column of a dataset. It displays all of the data as bars. \n",
    "\n",
    "Line - The line plot will also show the frequency like the histogram however it will show the exact number of times a value occurs rather than splitting the data into intervals. \n",
    "\n",
    "Boxplot - The boxplot shows the distribution of the data in a box form and will display some of the more descriptive statistics like the median, 1st quartile, 3rd quartile as well as outliers in the dataset. The outliers are typically shown as dots and extend beyond the box. \n",
    "\n",
    "Heatmap- The heatmap gives the correlation of all the values in the dataset. This graph is useful because its uses color schemes to show which columns have the strongest correlations. \n",
    "\n",
    "Pie - The pie chart is useful because it gives the percentage breakdown of each category in a column in the data frame which includes categorical data. \n",
    "\n"
   ]
  },
  {
   "cell_type": "code",
   "execution_count": 185,
   "id": "66879e1c",
   "metadata": {},
   "outputs": [],
   "source": [
    "import string\n",
    "import pandas as pd\n",
    "import matplotlib.pyplot as plt\n",
    "import seaborn as sns\n",
    "import re\n",
    "df = pd.read_csv('Airline-Sentiment-2-w-AA.csv')"
   ]
  },
  {
   "cell_type": "code",
   "execution_count": 85,
   "id": "85125df3",
   "metadata": {},
   "outputs": [
    {
     "data": {
      "text/html": [
       "<div>\n",
       "<style scoped>\n",
       "    .dataframe tbody tr th:only-of-type {\n",
       "        vertical-align: middle;\n",
       "    }\n",
       "\n",
       "    .dataframe tbody tr th {\n",
       "        vertical-align: top;\n",
       "    }\n",
       "\n",
       "    .dataframe thead th {\n",
       "        text-align: right;\n",
       "    }\n",
       "</style>\n",
       "<table border=\"1\" class=\"dataframe\">\n",
       "  <thead>\n",
       "    <tr style=\"text-align: right;\">\n",
       "      <th></th>\n",
       "      <th>_unit_id</th>\n",
       "      <th>_golden</th>\n",
       "      <th>_unit_state</th>\n",
       "      <th>_trusted_judgments</th>\n",
       "      <th>_last_judgment_at</th>\n",
       "      <th>airline_sentiment</th>\n",
       "      <th>airline_sentiment:confidence</th>\n",
       "      <th>negativereason</th>\n",
       "      <th>negativereason:confidence</th>\n",
       "      <th>airline</th>\n",
       "      <th>airline_sentiment_gold</th>\n",
       "      <th>name</th>\n",
       "      <th>negativereason_gold</th>\n",
       "      <th>retweet_count</th>\n",
       "      <th>text</th>\n",
       "      <th>tweet_coord</th>\n",
       "      <th>tweet_created</th>\n",
       "      <th>tweet_id</th>\n",
       "      <th>tweet_location</th>\n",
       "      <th>user_timezone</th>\n",
       "    </tr>\n",
       "  </thead>\n",
       "  <tbody>\n",
       "    <tr>\n",
       "      <th>0</th>\n",
       "      <td>681448150</td>\n",
       "      <td>False</td>\n",
       "      <td>finalized</td>\n",
       "      <td>3</td>\n",
       "      <td>2/25/2015 5:24</td>\n",
       "      <td>neutral</td>\n",
       "      <td>1.0000</td>\n",
       "      <td>NaN</td>\n",
       "      <td>NaN</td>\n",
       "      <td>Virgin America</td>\n",
       "      <td>NaN</td>\n",
       "      <td>cairdin</td>\n",
       "      <td>NaN</td>\n",
       "      <td>0</td>\n",
       "      <td>@VirginAmerica What @dhepburn said.</td>\n",
       "      <td>NaN</td>\n",
       "      <td>2/24/2015 11:35</td>\n",
       "      <td>5.700000e+17</td>\n",
       "      <td>NaN</td>\n",
       "      <td>Eastern Time (US &amp; Canada)</td>\n",
       "    </tr>\n",
       "    <tr>\n",
       "      <th>1</th>\n",
       "      <td>681448153</td>\n",
       "      <td>False</td>\n",
       "      <td>finalized</td>\n",
       "      <td>3</td>\n",
       "      <td>2/25/2015 1:53</td>\n",
       "      <td>positive</td>\n",
       "      <td>0.3486</td>\n",
       "      <td>NaN</td>\n",
       "      <td>0.0000</td>\n",
       "      <td>Virgin America</td>\n",
       "      <td>NaN</td>\n",
       "      <td>jnardino</td>\n",
       "      <td>NaN</td>\n",
       "      <td>0</td>\n",
       "      <td>@VirginAmerica plus you've added commercials t...</td>\n",
       "      <td>NaN</td>\n",
       "      <td>2/24/2015 11:15</td>\n",
       "      <td>5.700000e+17</td>\n",
       "      <td>NaN</td>\n",
       "      <td>Pacific Time (US &amp; Canada)</td>\n",
       "    </tr>\n",
       "    <tr>\n",
       "      <th>2</th>\n",
       "      <td>681448156</td>\n",
       "      <td>False</td>\n",
       "      <td>finalized</td>\n",
       "      <td>3</td>\n",
       "      <td>2/25/2015 10:01</td>\n",
       "      <td>neutral</td>\n",
       "      <td>0.6837</td>\n",
       "      <td>NaN</td>\n",
       "      <td>NaN</td>\n",
       "      <td>Virgin America</td>\n",
       "      <td>NaN</td>\n",
       "      <td>yvonnalynn</td>\n",
       "      <td>NaN</td>\n",
       "      <td>0</td>\n",
       "      <td>@VirginAmerica I didn't today... Must mean I n...</td>\n",
       "      <td>NaN</td>\n",
       "      <td>2/24/2015 11:15</td>\n",
       "      <td>5.700000e+17</td>\n",
       "      <td>Lets Play</td>\n",
       "      <td>Central Time (US &amp; Canada)</td>\n",
       "    </tr>\n",
       "    <tr>\n",
       "      <th>3</th>\n",
       "      <td>681448158</td>\n",
       "      <td>False</td>\n",
       "      <td>finalized</td>\n",
       "      <td>3</td>\n",
       "      <td>2/25/2015 3:05</td>\n",
       "      <td>negative</td>\n",
       "      <td>1.0000</td>\n",
       "      <td>Bad Flight</td>\n",
       "      <td>0.7033</td>\n",
       "      <td>Virgin America</td>\n",
       "      <td>NaN</td>\n",
       "      <td>jnardino</td>\n",
       "      <td>NaN</td>\n",
       "      <td>0</td>\n",
       "      <td>@VirginAmerica it's really aggressive to blast...</td>\n",
       "      <td>NaN</td>\n",
       "      <td>2/24/2015 11:15</td>\n",
       "      <td>5.700000e+17</td>\n",
       "      <td>NaN</td>\n",
       "      <td>Pacific Time (US &amp; Canada)</td>\n",
       "    </tr>\n",
       "    <tr>\n",
       "      <th>4</th>\n",
       "      <td>681448159</td>\n",
       "      <td>False</td>\n",
       "      <td>finalized</td>\n",
       "      <td>3</td>\n",
       "      <td>2/25/2015 5:50</td>\n",
       "      <td>negative</td>\n",
       "      <td>1.0000</td>\n",
       "      <td>Can't Tell</td>\n",
       "      <td>1.0000</td>\n",
       "      <td>Virgin America</td>\n",
       "      <td>NaN</td>\n",
       "      <td>jnardino</td>\n",
       "      <td>NaN</td>\n",
       "      <td>0</td>\n",
       "      <td>@VirginAmerica and it's a really big bad thing...</td>\n",
       "      <td>NaN</td>\n",
       "      <td>2/24/2015 11:14</td>\n",
       "      <td>5.700000e+17</td>\n",
       "      <td>NaN</td>\n",
       "      <td>Pacific Time (US &amp; Canada)</td>\n",
       "    </tr>\n",
       "    <tr>\n",
       "      <th>...</th>\n",
       "      <td>...</td>\n",
       "      <td>...</td>\n",
       "      <td>...</td>\n",
       "      <td>...</td>\n",
       "      <td>...</td>\n",
       "      <td>...</td>\n",
       "      <td>...</td>\n",
       "      <td>...</td>\n",
       "      <td>...</td>\n",
       "      <td>...</td>\n",
       "      <td>...</td>\n",
       "      <td>...</td>\n",
       "      <td>...</td>\n",
       "      <td>...</td>\n",
       "      <td>...</td>\n",
       "      <td>...</td>\n",
       "      <td>...</td>\n",
       "      <td>...</td>\n",
       "      <td>...</td>\n",
       "      <td>...</td>\n",
       "    </tr>\n",
       "    <tr>\n",
       "      <th>14635</th>\n",
       "      <td>681679794</td>\n",
       "      <td>False</td>\n",
       "      <td>finalized</td>\n",
       "      <td>3</td>\n",
       "      <td>2/25/2015 19:46</td>\n",
       "      <td>positive</td>\n",
       "      <td>0.3487</td>\n",
       "      <td>NaN</td>\n",
       "      <td>0.0000</td>\n",
       "      <td>American</td>\n",
       "      <td>NaN</td>\n",
       "      <td>KristenReenders</td>\n",
       "      <td>NaN</td>\n",
       "      <td>0</td>\n",
       "      <td>@AmericanAir thank you we got on a different f...</td>\n",
       "      <td>NaN</td>\n",
       "      <td>2/22/2015 12:01</td>\n",
       "      <td>5.700000e+17</td>\n",
       "      <td>NaN</td>\n",
       "      <td>NaN</td>\n",
       "    </tr>\n",
       "    <tr>\n",
       "      <th>14636</th>\n",
       "      <td>681679795</td>\n",
       "      <td>False</td>\n",
       "      <td>finalized</td>\n",
       "      <td>3</td>\n",
       "      <td>2/25/2015 19:14</td>\n",
       "      <td>negative</td>\n",
       "      <td>1.0000</td>\n",
       "      <td>Customer Service Issue</td>\n",
       "      <td>1.0000</td>\n",
       "      <td>American</td>\n",
       "      <td>NaN</td>\n",
       "      <td>itsropes</td>\n",
       "      <td>NaN</td>\n",
       "      <td>0</td>\n",
       "      <td>@AmericanAir leaving over 20 minutes Late Flig...</td>\n",
       "      <td>NaN</td>\n",
       "      <td>2/22/2015 11:59</td>\n",
       "      <td>5.700000e+17</td>\n",
       "      <td>Texas</td>\n",
       "      <td>NaN</td>\n",
       "    </tr>\n",
       "    <tr>\n",
       "      <th>14637</th>\n",
       "      <td>681679796</td>\n",
       "      <td>False</td>\n",
       "      <td>finalized</td>\n",
       "      <td>3</td>\n",
       "      <td>2/25/2015 19:04</td>\n",
       "      <td>neutral</td>\n",
       "      <td>1.0000</td>\n",
       "      <td>NaN</td>\n",
       "      <td>NaN</td>\n",
       "      <td>American</td>\n",
       "      <td>NaN</td>\n",
       "      <td>sanyabun</td>\n",
       "      <td>NaN</td>\n",
       "      <td>0</td>\n",
       "      <td>@AmericanAir Please bring American Airlines to...</td>\n",
       "      <td>NaN</td>\n",
       "      <td>2/22/2015 11:59</td>\n",
       "      <td>5.700000e+17</td>\n",
       "      <td>Nigeria,lagos</td>\n",
       "      <td>NaN</td>\n",
       "    </tr>\n",
       "    <tr>\n",
       "      <th>14638</th>\n",
       "      <td>681679797</td>\n",
       "      <td>False</td>\n",
       "      <td>finalized</td>\n",
       "      <td>3</td>\n",
       "      <td>2/25/2015 18:59</td>\n",
       "      <td>negative</td>\n",
       "      <td>1.0000</td>\n",
       "      <td>Customer Service Issue</td>\n",
       "      <td>0.6659</td>\n",
       "      <td>American</td>\n",
       "      <td>NaN</td>\n",
       "      <td>SraJackson</td>\n",
       "      <td>NaN</td>\n",
       "      <td>0</td>\n",
       "      <td>@AmericanAir you have my money, you change my ...</td>\n",
       "      <td>NaN</td>\n",
       "      <td>2/22/2015 11:59</td>\n",
       "      <td>5.700000e+17</td>\n",
       "      <td>New Jersey</td>\n",
       "      <td>Eastern Time (US &amp; Canada)</td>\n",
       "    </tr>\n",
       "    <tr>\n",
       "      <th>14639</th>\n",
       "      <td>681679798</td>\n",
       "      <td>False</td>\n",
       "      <td>finalized</td>\n",
       "      <td>3</td>\n",
       "      <td>2/25/2015 19:06</td>\n",
       "      <td>neutral</td>\n",
       "      <td>0.6771</td>\n",
       "      <td>NaN</td>\n",
       "      <td>0.0000</td>\n",
       "      <td>American</td>\n",
       "      <td>NaN</td>\n",
       "      <td>daviddtwu</td>\n",
       "      <td>NaN</td>\n",
       "      <td>0</td>\n",
       "      <td>@AmericanAir we have 8 ppl so we need 2 know h...</td>\n",
       "      <td>NaN</td>\n",
       "      <td>2/22/2015 11:58</td>\n",
       "      <td>5.700000e+17</td>\n",
       "      <td>dallas, TX</td>\n",
       "      <td>NaN</td>\n",
       "    </tr>\n",
       "  </tbody>\n",
       "</table>\n",
       "<p>14640 rows × 20 columns</p>\n",
       "</div>"
      ],
      "text/plain": [
       "        _unit_id  _golden _unit_state  _trusted_judgments _last_judgment_at  \\\n",
       "0      681448150    False   finalized                   3    2/25/2015 5:24   \n",
       "1      681448153    False   finalized                   3    2/25/2015 1:53   \n",
       "2      681448156    False   finalized                   3   2/25/2015 10:01   \n",
       "3      681448158    False   finalized                   3    2/25/2015 3:05   \n",
       "4      681448159    False   finalized                   3    2/25/2015 5:50   \n",
       "...          ...      ...         ...                 ...               ...   \n",
       "14635  681679794    False   finalized                   3   2/25/2015 19:46   \n",
       "14636  681679795    False   finalized                   3   2/25/2015 19:14   \n",
       "14637  681679796    False   finalized                   3   2/25/2015 19:04   \n",
       "14638  681679797    False   finalized                   3   2/25/2015 18:59   \n",
       "14639  681679798    False   finalized                   3   2/25/2015 19:06   \n",
       "\n",
       "      airline_sentiment  airline_sentiment:confidence          negativereason  \\\n",
       "0               neutral                        1.0000                     NaN   \n",
       "1              positive                        0.3486                     NaN   \n",
       "2               neutral                        0.6837                     NaN   \n",
       "3              negative                        1.0000              Bad Flight   \n",
       "4              negative                        1.0000              Can't Tell   \n",
       "...                 ...                           ...                     ...   \n",
       "14635          positive                        0.3487                     NaN   \n",
       "14636          negative                        1.0000  Customer Service Issue   \n",
       "14637           neutral                        1.0000                     NaN   \n",
       "14638          negative                        1.0000  Customer Service Issue   \n",
       "14639           neutral                        0.6771                     NaN   \n",
       "\n",
       "       negativereason:confidence         airline airline_sentiment_gold  \\\n",
       "0                            NaN  Virgin America                    NaN   \n",
       "1                         0.0000  Virgin America                    NaN   \n",
       "2                            NaN  Virgin America                    NaN   \n",
       "3                         0.7033  Virgin America                    NaN   \n",
       "4                         1.0000  Virgin America                    NaN   \n",
       "...                          ...             ...                    ...   \n",
       "14635                     0.0000        American                    NaN   \n",
       "14636                     1.0000        American                    NaN   \n",
       "14637                        NaN        American                    NaN   \n",
       "14638                     0.6659        American                    NaN   \n",
       "14639                     0.0000        American                    NaN   \n",
       "\n",
       "                  name negativereason_gold  retweet_count  \\\n",
       "0              cairdin                 NaN              0   \n",
       "1             jnardino                 NaN              0   \n",
       "2           yvonnalynn                 NaN              0   \n",
       "3             jnardino                 NaN              0   \n",
       "4             jnardino                 NaN              0   \n",
       "...                ...                 ...            ...   \n",
       "14635  KristenReenders                 NaN              0   \n",
       "14636         itsropes                 NaN              0   \n",
       "14637         sanyabun                 NaN              0   \n",
       "14638       SraJackson                 NaN              0   \n",
       "14639        daviddtwu                 NaN              0   \n",
       "\n",
       "                                                    text tweet_coord  \\\n",
       "0                    @VirginAmerica What @dhepburn said.         NaN   \n",
       "1      @VirginAmerica plus you've added commercials t...         NaN   \n",
       "2      @VirginAmerica I didn't today... Must mean I n...         NaN   \n",
       "3      @VirginAmerica it's really aggressive to blast...         NaN   \n",
       "4      @VirginAmerica and it's a really big bad thing...         NaN   \n",
       "...                                                  ...         ...   \n",
       "14635  @AmericanAir thank you we got on a different f...         NaN   \n",
       "14636  @AmericanAir leaving over 20 minutes Late Flig...         NaN   \n",
       "14637  @AmericanAir Please bring American Airlines to...         NaN   \n",
       "14638  @AmericanAir you have my money, you change my ...         NaN   \n",
       "14639  @AmericanAir we have 8 ppl so we need 2 know h...         NaN   \n",
       "\n",
       "         tweet_created      tweet_id tweet_location  \\\n",
       "0      2/24/2015 11:35  5.700000e+17            NaN   \n",
       "1      2/24/2015 11:15  5.700000e+17            NaN   \n",
       "2      2/24/2015 11:15  5.700000e+17      Lets Play   \n",
       "3      2/24/2015 11:15  5.700000e+17            NaN   \n",
       "4      2/24/2015 11:14  5.700000e+17            NaN   \n",
       "...                ...           ...            ...   \n",
       "14635  2/22/2015 12:01  5.700000e+17            NaN   \n",
       "14636  2/22/2015 11:59  5.700000e+17          Texas   \n",
       "14637  2/22/2015 11:59  5.700000e+17  Nigeria,lagos   \n",
       "14638  2/22/2015 11:59  5.700000e+17     New Jersey   \n",
       "14639  2/22/2015 11:58  5.700000e+17     dallas, TX   \n",
       "\n",
       "                    user_timezone  \n",
       "0      Eastern Time (US & Canada)  \n",
       "1      Pacific Time (US & Canada)  \n",
       "2      Central Time (US & Canada)  \n",
       "3      Pacific Time (US & Canada)  \n",
       "4      Pacific Time (US & Canada)  \n",
       "...                           ...  \n",
       "14635                         NaN  \n",
       "14636                         NaN  \n",
       "14637                         NaN  \n",
       "14638  Eastern Time (US & Canada)  \n",
       "14639                         NaN  \n",
       "\n",
       "[14640 rows x 20 columns]"
      ]
     },
     "execution_count": 85,
     "metadata": {},
     "output_type": "execute_result"
    }
   ],
   "source": [
    "df"
   ]
  },
  {
   "cell_type": "code",
   "execution_count": 109,
   "id": "30936b1c",
   "metadata": {},
   "outputs": [
    {
     "data": {
      "text/html": [
       "<div>\n",
       "<style scoped>\n",
       "    .dataframe tbody tr th:only-of-type {\n",
       "        vertical-align: middle;\n",
       "    }\n",
       "\n",
       "    .dataframe tbody tr th {\n",
       "        vertical-align: top;\n",
       "    }\n",
       "\n",
       "    .dataframe thead th {\n",
       "        text-align: right;\n",
       "    }\n",
       "</style>\n",
       "<table border=\"1\" class=\"dataframe\">\n",
       "  <thead>\n",
       "    <tr style=\"text-align: right;\">\n",
       "      <th></th>\n",
       "      <th>airline_sentiment</th>\n",
       "      <th>text</th>\n",
       "      <th>airline</th>\n",
       "      <th>negativereason_gold</th>\n",
       "    </tr>\n",
       "  </thead>\n",
       "  <tbody>\n",
       "    <tr>\n",
       "      <th>4326</th>\n",
       "      <td>negative</td>\n",
       "      <td>@SouthwestAir still waiting. Just hit one hour.</td>\n",
       "      <td>Southwest</td>\n",
       "      <td>NaN</td>\n",
       "    </tr>\n",
       "    <tr>\n",
       "      <th>4327</th>\n",
       "      <td>negative</td>\n",
       "      <td>@SouthwestAir although I'm not happy you Cance...</td>\n",
       "      <td>Southwest</td>\n",
       "      <td>NaN</td>\n",
       "    </tr>\n",
       "    <tr>\n",
       "      <th>4328</th>\n",
       "      <td>negative</td>\n",
       "      <td>@SouthwestAir Hello - been on hold for extreme...</td>\n",
       "      <td>Southwest</td>\n",
       "      <td>NaN</td>\n",
       "    </tr>\n",
       "    <tr>\n",
       "      <th>4329</th>\n",
       "      <td>neutral</td>\n",
       "      <td>@SouthwestAir I'm teaching new #travelers how ...</td>\n",
       "      <td>Southwest</td>\n",
       "      <td>NaN</td>\n",
       "    </tr>\n",
       "    <tr>\n",
       "      <th>4330</th>\n",
       "      <td>negative</td>\n",
       "      <td>@SouthwestAir Very frustrated for the loooooon...</td>\n",
       "      <td>Southwest</td>\n",
       "      <td>NaN</td>\n",
       "    </tr>\n",
       "    <tr>\n",
       "      <th>...</th>\n",
       "      <td>...</td>\n",
       "      <td>...</td>\n",
       "      <td>...</td>\n",
       "      <td>...</td>\n",
       "    </tr>\n",
       "    <tr>\n",
       "      <th>6741</th>\n",
       "      <td>negative</td>\n",
       "      <td>@SouthwestAir won't answer their phones #Horri...</td>\n",
       "      <td>Southwest</td>\n",
       "      <td>NaN</td>\n",
       "    </tr>\n",
       "    <tr>\n",
       "      <th>6742</th>\n",
       "      <td>negative</td>\n",
       "      <td>@SouthwestAir We have been stuck in SJU for se...</td>\n",
       "      <td>Southwest</td>\n",
       "      <td>NaN</td>\n",
       "    </tr>\n",
       "    <tr>\n",
       "      <th>6743</th>\n",
       "      <td>positive</td>\n",
       "      <td>@SouthwestAir nice work on the update!</td>\n",
       "      <td>Southwest</td>\n",
       "      <td>NaN</td>\n",
       "    </tr>\n",
       "    <tr>\n",
       "      <th>6744</th>\n",
       "      <td>negative</td>\n",
       "      <td>@SouthwestAir you guys there? Are we on hour 2...</td>\n",
       "      <td>Southwest</td>\n",
       "      <td>NaN</td>\n",
       "    </tr>\n",
       "    <tr>\n",
       "      <th>6745</th>\n",
       "      <td>negative</td>\n",
       "      <td>@SouthwestAir its cool that my bags take a bit...</td>\n",
       "      <td>Southwest</td>\n",
       "      <td>NaN</td>\n",
       "    </tr>\n",
       "  </tbody>\n",
       "</table>\n",
       "<p>2420 rows × 4 columns</p>\n",
       "</div>"
      ],
      "text/plain": [
       "     airline_sentiment                                               text  \\\n",
       "4326          negative    @SouthwestAir still waiting. Just hit one hour.   \n",
       "4327          negative  @SouthwestAir although I'm not happy you Cance...   \n",
       "4328          negative  @SouthwestAir Hello - been on hold for extreme...   \n",
       "4329           neutral  @SouthwestAir I'm teaching new #travelers how ...   \n",
       "4330          negative  @SouthwestAir Very frustrated for the loooooon...   \n",
       "...                ...                                                ...   \n",
       "6741          negative  @SouthwestAir won't answer their phones #Horri...   \n",
       "6742          negative  @SouthwestAir We have been stuck in SJU for se...   \n",
       "6743          positive             @SouthwestAir nice work on the update!   \n",
       "6744          negative  @SouthwestAir you guys there? Are we on hour 2...   \n",
       "6745          negative  @SouthwestAir its cool that my bags take a bit...   \n",
       "\n",
       "        airline negativereason_gold  \n",
       "4326  Southwest                 NaN  \n",
       "4327  Southwest                 NaN  \n",
       "4328  Southwest                 NaN  \n",
       "4329  Southwest                 NaN  \n",
       "4330  Southwest                 NaN  \n",
       "...         ...                 ...  \n",
       "6741  Southwest                 NaN  \n",
       "6742  Southwest                 NaN  \n",
       "6743  Southwest                 NaN  \n",
       "6744  Southwest                 NaN  \n",
       "6745  Southwest                 NaN  \n",
       "\n",
       "[2420 rows x 4 columns]"
      ]
     },
     "execution_count": 109,
     "metadata": {},
     "output_type": "execute_result"
    }
   ],
   "source": [
    "df[df['airline'] == 'Southwest'].loc[:,['airline_sentiment','text','airline', 'negativereason_gold']]"
   ]
  },
  {
   "cell_type": "code",
   "execution_count": 43,
   "id": "c4f760d6",
   "metadata": {},
   "outputs": [
    {
     "data": {
      "text/plain": [
       "<AxesSubplot:>"
      ]
     },
     "execution_count": 43,
     "metadata": {},
     "output_type": "execute_result"
    },
    {
     "data": {
      "image/png": "[encoded data removed]",
      "text/plain": [
       "<Figure size 432x288 with 1 Axes>"
      ]
     },
     "metadata": {
      "needs_background": "light"
     },
     "output_type": "display_data"
    }
   ],
   "source": [
    "#Distribution for neutral sentiment\n",
    "df.groupby('airline_sentiment').count().iloc[1,:].hist()"
   ]
  },
  {
   "cell_type": "code",
   "execution_count": 40,
   "id": "60a10b07",
   "metadata": {},
   "outputs": [
    {
     "data": {
      "text/plain": [
       "<AxesSubplot:>"
      ]
     },
     "execution_count": 40,
     "metadata": {},
     "output_type": "execute_result"
    },
    {
     "data": {
      "image/png": "[encoded data removed]",
      "text/plain": [
       "<Figure size 432x288 with 1 Axes>"
      ]
     },
     "metadata": {
      "needs_background": "light"
     },
     "output_type": "display_data"
    }
   ],
   "source": [
    "#Distribution for Delta sentiment\n",
    "df.groupby('airline').count().iloc[1,:].hist()"
   ]
  },
  {
   "cell_type": "code",
   "execution_count": 81,
   "id": "56a7f066",
   "metadata": {},
   "outputs": [
    {
     "data": {
      "text/plain": [
       "United            3822\n",
       "US Airways        2913\n",
       "American          2759\n",
       "Southwest         2420\n",
       "Delta             2222\n",
       "Virgin America     504\n",
       "Name: airline, dtype: int64"
      ]
     },
     "execution_count": 81,
     "metadata": {},
     "output_type": "execute_result"
    }
   ],
   "source": [
    "df['airline'].value_counts()"
   ]
  },
  {
   "cell_type": "code",
   "execution_count": 165,
   "id": "648f4c0a",
   "metadata": {},
   "outputs": [
    {
     "data": {
      "text/plain": [
       "([<matplotlib.patches.Wedge at 0x208ae6bd4c0>,\n",
       "  <matplotlib.patches.Wedge at 0x208ae6bd190>,\n",
       "  <matplotlib.patches.Wedge at 0x208ae6bde80>,\n",
       "  <matplotlib.patches.Wedge at 0x208ae6d1520>,\n",
       "  <matplotlib.patches.Wedge at 0x208ae6d1d00>,\n",
       "  <matplotlib.patches.Wedge at 0x208ae6d36d0>],\n",
       " [Text(0.7503132816269462, 0.8043817373698904, 'United'),\n",
       "  Text(-0.7041085836202399, 0.8451219453264125, 'US Airways'),\n",
       "  Text(-1.0366690370873182, -0.3678550088614437, 'American'),\n",
       "  Text(-0.12999433663974685, -1.0922918439874905, 'Southwest'),\n",
       "  Text(0.8461786665248315, -0.7028382917273774, 'Delta'),\n",
       "  Text(1.093572858985168, -0.11873669226909424, 'Virgin America')],\n",
       " [Text(0.40926178997833423, 0.43875367492903106, '26.11'),\n",
       "  Text(-0.3840592274292217, 0.46097560654167946, '19.90'),\n",
       "  Text(-0.5654558384112643, -0.20064818665169654, '18.85'),\n",
       "  Text(-0.07090600180349828, -0.5957955512659039, '16.53'),\n",
       "  Text(0.46155199992263535, -0.38336634094220584, '15.18'),\n",
       "  Text(0.5964942867191826, -0.06476546851041504, '3.44')])"
      ]
     },
     "execution_count": 165,
     "metadata": {},
     "output_type": "execute_result"
    },
    {
     "data": {
      "image/png": "[encoded data removed]",
      "text/plain": [
       "<Figure size 432x288 with 1 Axes>"
      ]
     },
     "metadata": {},
     "output_type": "display_data"
    }
   ],
   "source": [
    "total = sum(df['airline'].value_counts())\n",
    "plt.pie(df['airline'].value_counts(),labels=df['airline'].value_counts().index, autopct='%.2f')"
   ]
  },
  {
   "cell_type": "code",
   "execution_count": 55,
   "id": "f1310c64",
   "metadata": {},
   "outputs": [
    {
     "data": {
      "text/plain": [
       "airline\n",
       "American          1960\n",
       "Delta              955\n",
       "Southwest         1186\n",
       "US Airways        2263\n",
       "United            2633\n",
       "Virgin America     181\n",
       "Name: negativereason, dtype: int64"
      ]
     },
     "execution_count": 55,
     "metadata": {},
     "output_type": "execute_result"
    }
   ],
   "source": [
    "df.groupby('airline').count().iloc[:,7]"
   ]
  },
  {
   "cell_type": "code",
   "execution_count": 110,
   "id": "4f40236e",
   "metadata": {},
   "outputs": [
    {
     "data": {
      "text/plain": [
       "Text(0.5, 1.0, 'Which airlines had the most negative feedback')"
      ]
     },
     "execution_count": 110,
     "metadata": {},
     "output_type": "execute_result"
    },
    {
     "data": {
      "image/png": "[encoded data removed]",
      "text/plain": [
       "<Figure size 432x288 with 1 Axes>"
      ]
     },
     "metadata": {
      "needs_background": "light"
     },
     "output_type": "display_data"
    }
   ],
   "source": [
    "sns.barplot(data=df, x=df.groupby('airline').count().iloc[:,7].index, y=df.groupby('airline').count().iloc[:,7])\n",
    "plt.title('Which airlines had the most negative feedback')"
   ]
  },
  {
   "cell_type": "code",
   "execution_count": 125,
   "id": "7d9d2a24",
   "metadata": {},
   "outputs": [
    {
     "data": {
      "text/plain": [
       "Text(0, 0.5, 'Count of each response')"
      ]
     },
     "execution_count": 125,
     "metadata": {},
     "output_type": "execute_result"
    },
    {
     "data": {
      "image/png": "[encoded data removed]",
      "text/plain": [
       "<Figure size 432x288 with 1 Axes>"
      ]
     },
     "metadata": {
      "needs_background": "light"
     },
     "output_type": "display_data"
    }
   ],
   "source": [
    "t = df[df['airline'] == 'American']\n",
    "sns.barplot(x=t['airline_sentiment'].value_counts().index, y=t['airline_sentiment'].value_counts())\n",
    "plt.title('Airline Sentiment for American Airlines')\n",
    "plt.xlabel('Sentiment')\n",
    "plt.ylabel('Count of each response')"
   ]
  },
  {
   "cell_type": "code",
   "execution_count": 132,
   "id": "b8dde569",
   "metadata": {},
   "outputs": [
    {
     "data": {
      "text/plain": [
       "Text(0, 0.5, 'Count of each response')"
      ]
     },
     "execution_count": 132,
     "metadata": {},
     "output_type": "execute_result"
    },
    {
     "data": {
      "image/png": "[encoded data removed]",
      "text/plain": [
       "<Figure size 432x288 with 1 Axes>"
      ]
     },
     "metadata": {
      "needs_background": "light"
     },
     "output_type": "display_data"
    }
   ],
   "source": [
    "t = df[df['airline'] == 'Southwest']\n",
    "sns.barplot(x=t['airline_sentiment'].value_counts().index, y=t['airline_sentiment'].value_counts())\n",
    "plt.title('Airline Sentiment for Southwest')\n",
    "plt.xlabel('Sentiment')\n",
    "plt.ylabel('Count of each response')"
   ]
  },
  {
   "cell_type": "markdown",
   "id": "453d83b3",
   "metadata": {},
   "source": [
    "Which airlines are doing a good job capturing customer satisfaction? Virgin America, Delta\n",
    "\n",
    "How should American airlines strategically differentiate themselves in the coming year? What opportunities do they have?\n",
    "They should improve there quality. Even though get more buisiness than other airlines they have a lot of negative feedback. They could pursue more gold.\n",
    "\n",
    "How should Southwest airlines strategically differentiate themselves in the coming year? What opportunities do they have? Similar situation as American however more positive/ neutral sentiment from this airline company. "
   ]
  },
  {
   "cell_type": "code",
   "execution_count": 135,
   "id": "ca033027",
   "metadata": {},
   "outputs": [
    {
     "data": {
      "text/html": [
       "<div>\n",
       "<style scoped>\n",
       "    .dataframe tbody tr th:only-of-type {\n",
       "        vertical-align: middle;\n",
       "    }\n",
       "\n",
       "    .dataframe tbody tr th {\n",
       "        vertical-align: top;\n",
       "    }\n",
       "\n",
       "    .dataframe thead th {\n",
       "        text-align: right;\n",
       "    }\n",
       "</style>\n",
       "<table border=\"1\" class=\"dataframe\">\n",
       "  <thead>\n",
       "    <tr style=\"text-align: right;\">\n",
       "      <th></th>\n",
       "      <th>_unit_id</th>\n",
       "      <th>_golden</th>\n",
       "      <th>_unit_state</th>\n",
       "      <th>_trusted_judgments</th>\n",
       "      <th>_last_judgment_at</th>\n",
       "      <th>sentiment</th>\n",
       "      <th>sentiment:confidence</th>\n",
       "      <th>our_id</th>\n",
       "      <th>sentiment_gold</th>\n",
       "      <th>sentiment_gold_reason</th>\n",
       "      <th>text</th>\n",
       "    </tr>\n",
       "  </thead>\n",
       "  <tbody>\n",
       "    <tr>\n",
       "      <th>0</th>\n",
       "      <td>724227031</td>\n",
       "      <td>True</td>\n",
       "      <td>golden</td>\n",
       "      <td>236</td>\n",
       "      <td>NaN</td>\n",
       "      <td>5</td>\n",
       "      <td>0.7579</td>\n",
       "      <td>10001</td>\n",
       "      <td>5\\n4</td>\n",
       "      <td>Author is excited about the development of the...</td>\n",
       "      <td>Two places I'd invest all my money if I could:...</td>\n",
       "    </tr>\n",
       "    <tr>\n",
       "      <th>1</th>\n",
       "      <td>724227032</td>\n",
       "      <td>True</td>\n",
       "      <td>golden</td>\n",
       "      <td>231</td>\n",
       "      <td>NaN</td>\n",
       "      <td>5</td>\n",
       "      <td>0.8775</td>\n",
       "      <td>10002</td>\n",
       "      <td>5\\n4</td>\n",
       "      <td>Author is excited that driverless cars will be...</td>\n",
       "      <td>Awesome! Google driverless cars will help the ...</td>\n",
       "    </tr>\n",
       "    <tr>\n",
       "      <th>2</th>\n",
       "      <td>724227033</td>\n",
       "      <td>True</td>\n",
       "      <td>golden</td>\n",
       "      <td>233</td>\n",
       "      <td>NaN</td>\n",
       "      <td>2</td>\n",
       "      <td>0.6805</td>\n",
       "      <td>10003</td>\n",
       "      <td>2\\n1</td>\n",
       "      <td>The author is skeptical of the safety and reli...</td>\n",
       "      <td>If Google maps can't keep up with road constru...</td>\n",
       "    </tr>\n",
       "    <tr>\n",
       "      <th>3</th>\n",
       "      <td>724227034</td>\n",
       "      <td>True</td>\n",
       "      <td>golden</td>\n",
       "      <td>240</td>\n",
       "      <td>NaN</td>\n",
       "      <td>2</td>\n",
       "      <td>0.8820</td>\n",
       "      <td>10004</td>\n",
       "      <td>2\\n1</td>\n",
       "      <td>The author is skeptical of the project's value.</td>\n",
       "      <td>Autonomous cars seem way overhyped given the t...</td>\n",
       "    </tr>\n",
       "    <tr>\n",
       "      <th>4</th>\n",
       "      <td>724227035</td>\n",
       "      <td>True</td>\n",
       "      <td>golden</td>\n",
       "      <td>240</td>\n",
       "      <td>NaN</td>\n",
       "      <td>3</td>\n",
       "      <td>1.0000</td>\n",
       "      <td>10005</td>\n",
       "      <td>3</td>\n",
       "      <td>Author is making an observation without expres...</td>\n",
       "      <td>Just saw Google self-driving car on I-34. It w...</td>\n",
       "    </tr>\n",
       "  </tbody>\n",
       "</table>\n",
       "</div>"
      ],
      "text/plain": [
       "    _unit_id  _golden _unit_state  _trusted_judgments _last_judgment_at  \\\n",
       "0  724227031     True      golden                 236               NaN   \n",
       "1  724227032     True      golden                 231               NaN   \n",
       "2  724227033     True      golden                 233               NaN   \n",
       "3  724227034     True      golden                 240               NaN   \n",
       "4  724227035     True      golden                 240               NaN   \n",
       "\n",
       "  sentiment  sentiment:confidence  our_id sentiment_gold  \\\n",
       "0         5                0.7579   10001           5\\n4   \n",
       "1         5                0.8775   10002           5\\n4   \n",
       "2         2                0.6805   10003           2\\n1   \n",
       "3         2                0.8820   10004           2\\n1   \n",
       "4         3                1.0000   10005              3   \n",
       "\n",
       "                               sentiment_gold_reason  \\\n",
       "0  Author is excited about the development of the...   \n",
       "1  Author is excited that driverless cars will be...   \n",
       "2  The author is skeptical of the safety and reli...   \n",
       "3    The author is skeptical of the project's value.   \n",
       "4  Author is making an observation without expres...   \n",
       "\n",
       "                                                text  \n",
       "0  Two places I'd invest all my money if I could:...  \n",
       "1  Awesome! Google driverless cars will help the ...  \n",
       "2  If Google maps can't keep up with road constru...  \n",
       "3  Autonomous cars seem way overhyped given the t...  \n",
       "4  Just saw Google self-driving car on I-34. It w...  "
      ]
     },
     "execution_count": 135,
     "metadata": {},
     "output_type": "execute_result"
    }
   ],
   "source": [
    "df2 = pd.read_csv('C:/Users/shnai/OneDrive/Desktop/Data_Specialization/week-10/Twitter-sentiment-self-drive-DFE.csv')\n",
    "df2.head()"
   ]
  },
  {
   "cell_type": "code",
   "execution_count": 138,
   "id": "428ba0eb",
   "metadata": {},
   "outputs": [
    {
     "data": {
      "text/plain": [
       "Text(0, 0.5, 'confidence level')"
      ]
     },
     "execution_count": 138,
     "metadata": {},
     "output_type": "execute_result"
    },
    {
     "data": {
      "image/png": "[encoded data removed]",
      "text/plain": [
       "<Figure size 432x288 with 1 Axes>"
      ]
     },
     "metadata": {
      "needs_background": "light"
     },
     "output_type": "display_data"
    }
   ],
   "source": [
    "plt.scatter(data=df2,x='sentiment', y='sentiment:confidence')\n",
    "plt.title('Sentiment vs sentiment:confidence')\n",
    "plt.xlabel('sentiment')\n",
    "plt.ylabel('confidence level')"
   ]
  },
  {
   "cell_type": "code",
   "execution_count": 145,
   "id": "c4ee461d",
   "metadata": {},
   "outputs": [
    {
     "data": {
      "text/plain": [
       "Text(0, 0.5, 'length of text')"
      ]
     },
     "execution_count": 145,
     "metadata": {},
     "output_type": "execute_result"
    },
    {
     "data": {
      "image/png": "[encoded data removed]",
      "text/plain": [
       "<Figure size 432x288 with 1 Axes>"
      ]
     },
     "metadata": {
      "needs_background": "light"
     },
     "output_type": "display_data"
    }
   ],
   "source": [
    "plt.scatter(data=df2,x='sentiment:confidence', y='length of text')\n",
    "plt.title('Sentiment vs sentiment:confidence')\n",
    "plt.xlabel('sentiment:confidence')\n",
    "plt.ylabel('length of text')"
   ]
  },
  {
   "cell_type": "code",
   "execution_count": 141,
   "id": "f31cfb5a",
   "metadata": {},
   "outputs": [],
   "source": [
    "df2['length of text'] = df['text'].apply(lambda x: len(x))"
   ]
  },
  {
   "cell_type": "code",
   "execution_count": 142,
   "id": "0e4008b1",
   "metadata": {},
   "outputs": [
    {
     "data": {
      "text/plain": [
       "0        35\n",
       "1        72\n",
       "2        71\n",
       "3       126\n",
       "4        55\n",
       "       ... \n",
       "7151     63\n",
       "7152     99\n",
       "7153     78\n",
       "7154     63\n",
       "7155     70\n",
       "Name: length of text, Length: 7156, dtype: int64"
      ]
     },
     "execution_count": 142,
     "metadata": {},
     "output_type": "execute_result"
    }
   ],
   "source": []
  },
  {
   "cell_type": "code",
   "execution_count": 148,
   "id": "da0e3e27",
   "metadata": {},
   "outputs": [],
   "source": [
    "confid_greater = df2[df2['sentiment:confidence'] > .8]"
   ]
  },
  {
   "cell_type": "code",
   "execution_count": 167,
   "id": "e8637b10",
   "metadata": {},
   "outputs": [
    {
     "data": {
      "text/plain": [
       "([<matplotlib.patches.Wedge at 0x208ae719e80>,\n",
       "  <matplotlib.patches.Wedge at 0x208ae6e4520>,\n",
       "  <matplotlib.patches.Wedge at 0x208ae6e4fd0>,\n",
       "  <matplotlib.patches.Wedge at 0x208ae6ee4c0>,\n",
       "  <matplotlib.patches.Wedge at 0x208ae6d9580>,\n",
       "  <matplotlib.patches.Wedge at 0x208ae6d9c10>],\n",
       " [Text(-0.8200114330615639, 0.7331993246371145, '3'),\n",
       "  Text(0.5217625106158752, -0.9683820953093975, '4'),\n",
       "  Text(0.9595839060727696, -0.537772002995811, '2'),\n",
       "  Text(1.0701121217768657, -0.2546763570224269, '5'),\n",
       "  Text(1.0953858870487168, -0.1006467011605243, 'not_relevant'),\n",
       "  Text(1.0997395608038605, -0.023935296173893915, '1')],\n",
       " [Text(-0.4472789634881257, 0.39992690434751693, '76.78'),\n",
       "  Text(0.2845977330632046, -0.5282084156233077, '12.18'),\n",
       "  Text(0.5234094033124197, -0.29333018345226053, '5.83'),\n",
       "  Text(0.5836975209691994, -0.1389143765576874, '2.99'),\n",
       "  Text(0.5974832111174818, -0.05489820063301325, '1.53'),\n",
       "  Text(0.5998579422566511, -0.013055616094851225, '0.69')])"
      ]
     },
     "execution_count": 167,
     "metadata": {},
     "output_type": "execute_result"
    },
    {
     "data": {
      "image/png": "[encoded data removed]",
      "text/plain": [
       "<Figure size 432x288 with 1 Axes>"
      ]
     },
     "metadata": {},
     "output_type": "display_data"
    }
   ],
   "source": [
    "total = sum(confid_greater['sentiment'].value_counts())\n",
    "plt.pie(confid_greater['sentiment'].value_counts(), labels=confid_greater['sentiment'].value_counts().index,\n",
    "       autopct='%.2f')"
   ]
  },
  {
   "cell_type": "code",
   "execution_count": 179,
   "id": "ba035751",
   "metadata": {},
   "outputs": [],
   "source": [
    "r = df2[df2['_unit_state'] == 'finalized']\n"
   ]
  },
  {
   "cell_type": "code",
   "execution_count": 196,
   "id": "39d35aad",
   "metadata": {},
   "outputs": [],
   "source": [
    "def remove(text):\n",
    "    text = ''.join([i for i in text if i not in string.punctuation])\n",
    "    re.split('\\s+', text)\n",
    "    return text"
   ]
  },
  {
   "cell_type": "code",
   "execution_count": null,
   "id": "da3f33b1",
   "metadata": {},
   "outputs": [],
   "source": []
  },
  {
   "cell_type": "code",
   "execution_count": null,
   "id": "1141ba35",
   "metadata": {},
   "outputs": [],
   "source": []
  },
  {
   "cell_type": "code",
   "execution_count": null,
   "id": "26d85d0f",
   "metadata": {},
   "outputs": [],
   "source": []
  }
 ],
 "metadata": {
  "kernelspec": {
   "display_name": "Python 3",
   "language": "python",
   "name": "python3"
  },
  "language_info": {
   "codemirror_mode": {
    "name": "ipython",
    "version": 3
   },
   "file_extension": ".py",
   "mimetype": "text/x-python",
   "name": "python",
   "nbconvert_exporter": "python",
   "pygments_lexer": "ipython3",
   "version": "3.8.8"
  }
 },
 "nbformat": 4,
 "nbformat_minor": 5
}
